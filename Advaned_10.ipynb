{
 "cells": [
  {
   "cell_type": "code",
   "execution_count": null,
   "id": "f2c71b27-1641-47e3-8b69-bdd744b4470a",
   "metadata": {},
   "outputs": [],
   "source": [
    "Q1. What is the difference between __getattr__ and __getattribute__?"
   ]
  },
  {
   "cell_type": "code",
   "execution_count": null,
   "id": "abc1ad77-c1ec-4790-979f-02be19aff630",
   "metadata": {},
   "outputs": [],
   "source": [
    "__getattribute__\n",
    "Called unconditionally to implement attribute accesses for instances of the class. If the class also defines __getattr__() , the latter will not be called unless __getattribute__() either calls it explicitly or raises an AttributeError ."
   ]
  },
  {
   "cell_type": "code",
   "execution_count": null,
   "id": "54f6c43e-367b-4ad8-9e67-26e7edeb2875",
   "metadata": {},
   "outputs": [],
   "source": []
  },
  {
   "cell_type": "code",
   "execution_count": null,
   "id": "e8e2d720-ef05-4c48-b3a8-499a254145d5",
   "metadata": {},
   "outputs": [],
   "source": [
    "Q2. What is the difference between properties and descriptors?"
   ]
  },
  {
   "cell_type": "code",
   "execution_count": null,
   "id": "c028784d-ef73-43d4-8072-baba0a2892e2",
   "metadata": {},
   "outputs": [],
   "source": [
    "A data descriptor is a property with a value that may or may not be writable. An accessor descriptor is a property described by a getter-setter pair of functions. A descriptor must be one of these two flavors; it cannot be both."
   ]
  },
  {
   "cell_type": "code",
   "execution_count": null,
   "id": "c67be91d-abf6-4a24-8a2f-722cb0076c60",
   "metadata": {},
   "outputs": [],
   "source": []
  },
  {
   "cell_type": "code",
   "execution_count": null,
   "id": "01c6c3b4-5080-4c22-bd80-72c60731a474",
   "metadata": {},
   "outputs": [],
   "source": [
    "Q3. What are the key differences in functionality between __getattr__ and __getattribute__, as well as\n",
    "properties and descriptors?"
   ]
  },
  {
   "cell_type": "code",
   "execution_count": null,
   "id": "6a357df9-d5ae-4c47-8d63-1d4aba4241d3",
   "metadata": {},
   "outputs": [],
   "source": [
    "A key difference between __getattr__ and __getattribute__ is that __getattr__ is only invoked if the attribute wasn't found the usual ways. It's good for implementing a fallback for missing attributes, and is probably the one of two you want."
   ]
  },
  {
   "cell_type": "code",
   "execution_count": null,
   "id": "22c9b408-9979-4d59-a48a-8b759a0367a9",
   "metadata": {},
   "outputs": [],
   "source": []
  },
  {
   "cell_type": "code",
   "execution_count": null,
   "id": "a5b7ec3c-e1e6-4e57-853c-79c41843d697",
   "metadata": {},
   "outputs": [],
   "source": []
  },
  {
   "cell_type": "code",
   "execution_count": null,
   "id": "c875e0a2-e9d9-4a54-8de0-2985a0fb6d91",
   "metadata": {},
   "outputs": [],
   "source": []
  },
  {
   "cell_type": "code",
   "execution_count": null,
   "id": "f2786c62-8c84-4eac-83ce-7ca9224253e4",
   "metadata": {},
   "outputs": [],
   "source": []
  }
 ],
 "metadata": {
  "kernelspec": {
   "display_name": "Python 3 (ipykernel)",
   "language": "python",
   "name": "python3"
  },
  "language_info": {
   "codemirror_mode": {
    "name": "ipython",
    "version": 3
   },
   "file_extension": ".py",
   "mimetype": "text/x-python",
   "name": "python",
   "nbconvert_exporter": "python",
   "pygments_lexer": "ipython3",
   "version": "3.10.6"
  }
 },
 "nbformat": 4,
 "nbformat_minor": 5
}
